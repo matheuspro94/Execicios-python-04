{
 "cells": [
  {
   "cell_type": "code",
   "execution_count": null,
   "metadata": {},
   "outputs": [],
   "source": [
    "# Exercicio 01\n",
    "a, b = 0, 1\n",
    "\n",
    "# Lista para armazenar a sequência de Fibonacci\n",
    "fibonacci_sequence = []\n",
    "\n",
    "# Loop até que o próximo número na sequência seja maior que 100\n",
    "while a <= 100:\n",
    "    print(f\"a: {a}, b: {b}\")\n",
    "    fibonacci_sequence.append(a)  # Adiciona o número atual à sequência\n",
    "    a, b = b, a + b  # Atualiza os valores de 'a' e 'b' \n",
    "\n",
    "# Imprime a sequência de Fibonacci até 100\n",
    "print(fibonacci_sequence)"
   ]
  },
  {
   "cell_type": "code",
   "execution_count": 2,
   "metadata": {},
   "outputs": [],
   "source": [
    "import math"
   ]
  },
  {
   "cell_type": "code",
   "execution_count": 5,
   "metadata": {},
   "outputs": [
    {
     "name": "stdout",
     "output_type": "stream",
     "text": [
      "[2, 2, 2, 2, 2, 2, 2, 2, 2, 2]\n"
     ]
    }
   ],
   "source": [
    "#Exercicio 02\n",
    "def prime_factors(n):\n",
    "    i = 2\n",
    "    factors = []\n",
    "    while i * i <= n:\n",
    "        if n % i:\n",
    "            i += 1\n",
    "        else:\n",
    "            n //= i\n",
    "            factors.append(i)\n",
    "    if n > 1:\n",
    "        factors.append(n)\n",
    "    return factors\n",
    "\n",
    "# Decompor 1024 em fatores primos\n",
    "n = 1024\n",
    "factors = prime_factors(n)\n",
    "print(factors)"
   ]
  },
  {
   "cell_type": "code",
   "execution_count": 4,
   "metadata": {},
   "outputs": [
    {
     "name": "stdout",
     "output_type": "stream",
     "text": [
      "A fruta 'uva' já está na lista.\n",
      "Lista de frutas atualizada: ['bananas', 'maçãs', 'peras', 'uvas', 'laranjas']\n",
      "A fruta 'tomate' foi adicionada à lista.\n",
      "Lista de frutas atualizada: ['bananas', 'maçãs', 'peras', 'uvas', 'laranjas', 'tomate']\n",
      "Encerrando o programa.\n"
     ]
    }
   ],
   "source": [
    "# Lista de frutas inicial\n",
    "fruits = [\"bananas\", \"maçãs\", \"peras\", \"uvas\", \"laranjas\"]\n",
    "\n",
    "while True:\n",
    "    # Solicitar ao usuário que insira uma fruta ou o número 999 para encerrar\n",
    "    user_input = input(\"Digite o nome de uma fruta para consultar/adicionar ou 999 para encerrar: \").strip().lower()\n",
    "    \n",
    "    # Verificar se o usuário deseja encerrar o programa\n",
    "    if user_input == \"999\":\n",
    "        print(\"Encerrando o programa.\")\n",
    "        break\n",
    "    \n",
    "    # Converter a entrada para minúsculas\n",
    "    user_input = user_input.lower()\n",
    "    \n",
    "    # Verificar se a forma plural da fruta está na lista\n",
    "    plural_form = user_input + \"s\"\n",
    "    if plural_form in fruits:\n",
    "        print(f\"A fruta '{user_input}' já está na lista.\")\n",
    "    else:\n",
    "        # Verificar se a fruta está na lista\n",
    "        if user_input in fruits:\n",
    "            print(f\"A fruta '{user_input}' já está na lista.\")\n",
    "        else:\n",
    "            # Adicionar a fruta à lista\n",
    "            fruits.append(user_input)\n",
    "            print(f\"A fruta '{user_input}' foi adicionada à lista.\")\n",
    "\n",
    "    # Imprimir a lista atualizada de frutas\n",
    "    print(f\"Lista de frutas atualizada: {fruits}\")\n"
   ]
  },
  {
   "cell_type": "code",
   "execution_count": null,
   "metadata": {},
   "outputs": [],
   "source": []
  },
  {
   "cell_type": "code",
   "execution_count": null,
   "metadata": {},
   "outputs": [],
   "source": []
  }
 ],
 "metadata": {
  "kernelspec": {
   "display_name": "Python 3",
   "language": "python",
   "name": "python3"
  },
  "language_info": {
   "codemirror_mode": {
    "name": "ipython",
    "version": 3
   },
   "file_extension": ".py",
   "mimetype": "text/x-python",
   "name": "python",
   "nbconvert_exporter": "python",
   "pygments_lexer": "ipython3",
   "version": "3.11.9"
  }
 },
 "nbformat": 4,
 "nbformat_minor": 2
}
